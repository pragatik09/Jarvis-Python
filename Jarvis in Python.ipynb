{
 "cells": [
  {
   "cell_type": "code",
   "execution_count": 1,
   "id": "f30f7d14",
   "metadata": {},
   "outputs": [
    {
     "name": "stdout",
     "output_type": "stream",
     "text": [
      "Collecting pyttsx3\n",
      "  Downloading pyttsx3-2.90-py3-none-any.whl (39 kB)\n",
      "Collecting comtypes (from pyttsx3)\n",
      "  Obtaining dependency information for comtypes from https://files.pythonhosted.org/packages/c2/a7/fe4bd49b5c4afa7a7ed3852abda6909e48c00715e6a134e47055381113aa/comtypes-1.2.0-py2.py3-none-any.whl.metadata\n",
      "  Downloading comtypes-1.2.0-py2.py3-none-any.whl.metadata (3.7 kB)\n",
      "Collecting pypiwin32 (from pyttsx3)\n",
      "  Downloading pypiwin32-223-py3-none-any.whl (1.7 kB)\n",
      "Requirement already satisfied: pywin32 in c:\\users\\praga\\anaconda3\\lib\\site-packages (from pyttsx3) (305.1)\n",
      "Downloading comtypes-1.2.0-py2.py3-none-any.whl (184 kB)\n",
      "   ---------------------------------------- 0.0/184.3 kB ? eta -:--:--\n",
      "   ------------------------------------- -- 174.1/184.3 kB 5.3 MB/s eta 0:00:01\n",
      "   ---------------------------------------- 184.3/184.3 kB 2.8 MB/s eta 0:00:00\n",
      "Installing collected packages: comtypes, pypiwin32, pyttsx3\n",
      "Successfully installed comtypes-1.2.0 pypiwin32-223 pyttsx3-2.90\n",
      "Note: you may need to restart the kernel to use updated packages.\n"
     ]
    }
   ],
   "source": [
    "pip install pyttsx3"
   ]
  },
  {
   "cell_type": "code",
   "execution_count": 19,
   "id": "9692aee1",
   "metadata": {},
   "outputs": [],
   "source": [
    "import smtplib\n",
    "import webbrowser as wb \n",
    "import os\n",
    "import pyautogui\n",
    "import psutil\n",
    "import pyjokes"
   ]
  },
  {
   "cell_type": "code",
   "execution_count": 20,
   "id": "0444ad17",
   "metadata": {},
   "outputs": [],
   "source": [
    "import pyttsx3\n",
    "engine=pyttsx3.init()"
   ]
  },
  {
   "cell_type": "code",
   "execution_count": 21,
   "id": "77c5853f",
   "metadata": {},
   "outputs": [],
   "source": [
    "def speak(audio):\n",
    "    engine.say(audio)\n",
    "    engine.runAndWait()"
   ]
  },
  {
   "cell_type": "code",
   "execution_count": 22,
   "id": "83829537",
   "metadata": {},
   "outputs": [],
   "source": [
    "import datetime\n",
    "def time():\n",
    "    Time=datetime.datetime.now().strftime(\"%I:%M:%S\")\n",
    "    speak(\"The current time is\")\n",
    "    speak(Time)"
   ]
  },
  {
   "cell_type": "code",
   "execution_count": 23,
   "id": "dee76170",
   "metadata": {},
   "outputs": [],
   "source": [
    "def date():\n",
    "    year=int(datetime.datetime.now().year)\n",
    "    month=int(datetime.datetime.now().month)\n",
    "    date=int(datetime.datetime.now().day)\n",
    "    speak(\"The current date is\")\n",
    "    speak(date)\n",
    "    speak(month)\n",
    "    speak(year)"
   ]
  },
  {
   "cell_type": "code",
   "execution_count": 24,
   "id": "4d051260",
   "metadata": {},
   "outputs": [],
   "source": [
    "def wishme():\n",
    "    speak(\"This is Jarvis, your AI assistant\")\n",
    "    date()\n",
    "    time()\n",
    "    hour=datetime.datetime.now().hour\n",
    "    if hour>=6 and hour<12:\n",
    "        speak(\"Good Morning!\")\n",
    "    elif hour>=12 and hour<16:\n",
    "        speak(\"Good Afternoon!\")\n",
    "    elif hour>=16 and hour<20:\n",
    "        speak(\"Good Evening!\")\n",
    "    else:\n",
    "        speak(\"Good Night!\")\n",
    "    speak(\"Jarvis at your service, please tell me how can I help you?\")"
   ]
  },
  {
   "cell_type": "code",
   "execution_count": 11,
   "id": "af7d0c6f",
   "metadata": {},
   "outputs": [
    {
     "name": "stdout",
     "output_type": "stream",
     "text": [
      "Requirement already satisfied: SpeechRecognition in c:\\users\\praga\\anaconda3\\lib\\site-packages (3.10.0)\n",
      "Requirement already satisfied: requests>=2.26.0 in c:\\users\\praga\\anaconda3\\lib\\site-packages (from SpeechRecognition) (2.31.0)\n",
      "Requirement already satisfied: charset-normalizer<4,>=2 in c:\\users\\praga\\anaconda3\\lib\\site-packages (from requests>=2.26.0->SpeechRecognition) (2.0.4)\n",
      "Requirement already satisfied: idna<4,>=2.5 in c:\\users\\praga\\anaconda3\\lib\\site-packages (from requests>=2.26.0->SpeechRecognition) (3.4)\n",
      "Requirement already satisfied: urllib3<3,>=1.21.1 in c:\\users\\praga\\anaconda3\\lib\\site-packages (from requests>=2.26.0->SpeechRecognition) (1.26.16)\n",
      "Requirement already satisfied: certifi>=2017.4.17 in c:\\users\\praga\\anaconda3\\lib\\site-packages (from requests>=2.26.0->SpeechRecognition) (2023.7.22)\n",
      "Note: you may need to restart the kernel to use updated packages.\n"
     ]
    }
   ],
   "source": [
    "pip install SpeechRecognition"
   ]
  },
  {
   "cell_type": "code",
   "execution_count": null,
   "id": "87052253",
   "metadata": {},
   "outputs": [
    {
     "name": "stdout",
     "output_type": "stream",
     "text": [
      "Listening...\n",
      "Recognizing...\n",
      "\n",
      "Listening...\n",
      "Recognizing...\n",
      "\n",
      "Listening...\n",
      "Recognizing...\n",
      "\n",
      "Listening...\n",
      "Recognizing...\n"
     ]
    }
   ],
   "source": [
    "import speech_recognition as sr\n",
    "import wikipedia\n",
    "def takecommand():\n",
    "    r=sr.Recognizer()\n",
    "    with sr.Microphone() as source:\n",
    "        print(\"Listening...\")\n",
    "        r.pause_threshold=2\n",
    "        audio=r.listen(source)\n",
    "    \n",
    "    try:\n",
    "        print(\"Recognizing...\")\n",
    "        query=r.recognize_google(audio, language='en-in')\n",
    "        print(query)\n",
    "    except Exception as e:\n",
    "        print(e)\n",
    "        speak(\"Say that again please...\")\n",
    "        return \"None\"\n",
    "    return query\n",
    "\n",
    "def sendmail(to,content):\n",
    "    server=smtplib.SMTP('smtp.gmail.com',587)\n",
    "    server.echo()\n",
    "    server.starttls()\n",
    "    server.login('yourmail@gmail.com','yourpassword')\n",
    "    server.sendmail('yourmail@gmail.com',to,content)\n",
    "    server.close()\n",
    "    \n",
    "def screenshot():\n",
    "    img=pyautogui.screenshot()\n",
    "    img.save(r\"C:\\Users\\praga\\Pictures\\Screenshots\\ss.png\")\n",
    "\n",
    "def cpu():\n",
    "    usage=str(psutil.cpu_percent())\n",
    "    speak(\"The CPU percentage is\"+usage)\n",
    "    battery=psutil.sensors_battery()\n",
    "    speak(\"The battery is at\")\n",
    "    speak(battery.percent)\n",
    "    \n",
    "def jokes():\n",
    "    speak(pyjokes.get_joke())\n",
    "    \n",
    "\n",
    "if __name__==\"__main__\":\n",
    "    wishme()\n",
    "    while True:\n",
    "        query=takecommand().lower()\n",
    "        if 'time' in query:\n",
    "            time()\n",
    "        elif 'date' in query:\n",
    "            date()\n",
    "        elif 'wikipedia' in query:\n",
    "            query=query.replace(\"wikipedia\",\"\")\n",
    "            result=wikipedia.summary(query,sentences=2)\n",
    "            print(result)\n",
    "            speak(result)\n",
    "        elif 'send email' in query:\n",
    "            try:\n",
    "                speak(\"What should the email say?\")\n",
    "                content=takecommand()\n",
    "                to='recipientmail@gmail.com'\n",
    "                speak(content)\n",
    "                sendmail(to,content)\n",
    "                speak(\"Email has been sent successfully!\")\n",
    "            except Exception as e:\n",
    "                print(e)\n",
    "                speak(\"Unable to send the email\")\n",
    "        elif 'search in chrome' in query:\n",
    "            speak(\"What should I search?\")\n",
    "            chromepath=\"C:\\Program Files\\Google\\Chrome\\Application\\chrome.exe\"\n",
    "            search=takecommand().lower()\n",
    "            wb.get(chromepath).open_new_tab(search+'.com')\n",
    "        elif 'logout' in query:\n",
    "            os.system(\"shutdown -l\")\n",
    "        elif 'shutdown' in query:\n",
    "            os.system(\"shutdown /s /t 1\")\n",
    "        elif 'restart' in query:\n",
    "            os.system(\"shutdown /r /t 1\")\n",
    "        elif 'play sogs' in query:\n",
    "            songs_dir='D:\\\\Music'\n",
    "            songs=os.listdir(songs_dir)\n",
    "            os.startfile(os.path.join(songs_dir,songs[0]))\n",
    "        elif 'remember that' in query:\n",
    "            speak(\"What should I remember?\")\n",
    "            data=takecommand()\n",
    "            speak(\"You have asked me to remember that\"+data)\n",
    "            remember=open('data.txt','w')\n",
    "            remember.write(data)\n",
    "            remember.close()\n",
    "        elif 'do you know anything' in query:\n",
    "            remember=open('data.txt','r')\n",
    "            speak(\"You told me to remember that\"+remember.read())\n",
    "        elif 'screenshot' in query:\n",
    "            screenshot()\n",
    "            speak(\"Screenshot taken successfully!\")\n",
    "        elif 'cpu' in query:\n",
    "            cpu()\n",
    "        elif 'joke' in query:\n",
    "            jokes()\n",
    "        elif 'offline' in query:\n",
    "            quit()\n",
    "            "
   ]
  },
  {
   "cell_type": "code",
   "execution_count": 18,
   "id": "03375593",
   "metadata": {},
   "outputs": [
    {
     "name": "stdout",
     "output_type": "stream",
     "text": [
      "Collecting wikipedia\n",
      "  Downloading wikipedia-1.4.0.tar.gz (27 kB)\n",
      "  Preparing metadata (setup.py): started\n",
      "  Preparing metadata (setup.py): finished with status 'done'\n",
      "Requirement already satisfied: beautifulsoup4 in c:\\users\\praga\\anaconda3\\lib\\site-packages (from wikipedia) (4.12.2)\n",
      "Requirement already satisfied: requests<3.0.0,>=2.0.0 in c:\\users\\praga\\anaconda3\\lib\\site-packages (from wikipedia) (2.31.0)\n",
      "Requirement already satisfied: charset-normalizer<4,>=2 in c:\\users\\praga\\anaconda3\\lib\\site-packages (from requests<3.0.0,>=2.0.0->wikipedia) (2.0.4)\n",
      "Requirement already satisfied: idna<4,>=2.5 in c:\\users\\praga\\anaconda3\\lib\\site-packages (from requests<3.0.0,>=2.0.0->wikipedia) (3.4)\n",
      "Requirement already satisfied: urllib3<3,>=1.21.1 in c:\\users\\praga\\anaconda3\\lib\\site-packages (from requests<3.0.0,>=2.0.0->wikipedia) (1.26.16)\n",
      "Requirement already satisfied: certifi>=2017.4.17 in c:\\users\\praga\\anaconda3\\lib\\site-packages (from requests<3.0.0,>=2.0.0->wikipedia) (2023.7.22)\n",
      "Requirement already satisfied: soupsieve>1.2 in c:\\users\\praga\\anaconda3\\lib\\site-packages (from beautifulsoup4->wikipedia) (2.4)\n",
      "Building wheels for collected packages: wikipedia\n",
      "  Building wheel for wikipedia (setup.py): started\n",
      "  Building wheel for wikipedia (setup.py): finished with status 'done'\n",
      "  Created wheel for wikipedia: filename=wikipedia-1.4.0-py3-none-any.whl size=11707 sha256=2814ae05a97ecb0323e5bd445f09371ec10fd8b6660bfb983b91c578921574f4\n",
      "  Stored in directory: c:\\users\\praga\\appdata\\local\\pip\\cache\\wheels\\8f\\ab\\cb\\45ccc40522d3a1c41e1d2ad53b8f33a62f394011ec38cd71c6\n",
      "Successfully built wikipedia\n",
      "Installing collected packages: wikipedia\n",
      "Successfully installed wikipedia-1.4.0\n",
      "Note: you may need to restart the kernel to use updated packages.\n"
     ]
    }
   ],
   "source": [
    "pip install wikipedia"
   ]
  },
  {
   "cell_type": "code",
   "execution_count": 1,
   "id": "512d3dd4",
   "metadata": {},
   "outputs": [
    {
     "name": "stdout",
     "output_type": "stream",
     "text": [
      "Collecting pyautogui\n",
      "  Downloading PyAutoGUI-0.9.54.tar.gz (61 kB)\n",
      "     ---------------------------------------- 0.0/61.2 kB ? eta -:--:--\n",
      "     ------------ ------------------------- 20.5/61.2 kB 640.0 kB/s eta 0:00:01\n",
      "     ------------------------------- ------ 51.2/61.2 kB 650.2 kB/s eta 0:00:01\n",
      "     -------------------------------------- 61.2/61.2 kB 542.5 kB/s eta 0:00:00\n",
      "  Installing build dependencies: started\n",
      "  Installing build dependencies: finished with status 'done'\n",
      "  Getting requirements to build wheel: started\n",
      "  Getting requirements to build wheel: finished with status 'done'\n",
      "  Preparing metadata (pyproject.toml): started\n",
      "  Preparing metadata (pyproject.toml): finished with status 'done'\n",
      "Collecting pymsgbox (from pyautogui)\n",
      "  Downloading PyMsgBox-1.0.9.tar.gz (18 kB)\n",
      "  Installing build dependencies: started\n",
      "  Installing build dependencies: finished with status 'done'\n",
      "  Getting requirements to build wheel: started\n",
      "  Getting requirements to build wheel: finished with status 'done'\n",
      "  Preparing metadata (pyproject.toml): started\n",
      "  Preparing metadata (pyproject.toml): finished with status 'done'\n",
      "Collecting pytweening>=1.0.4 (from pyautogui)\n",
      "  Downloading pytweening-1.0.7.tar.gz (168 kB)\n",
      "     ---------------------------------------- 0.0/168.2 kB ? eta -:--:--\n",
      "     ------------------------------------- 168.2/168.2 kB 10.5 MB/s eta 0:00:00\n",
      "  Preparing metadata (setup.py): started\n",
      "  Preparing metadata (setup.py): finished with status 'done'\n",
      "Collecting pyscreeze>=0.1.21 (from pyautogui)\n",
      "  Downloading PyScreeze-0.1.30.tar.gz (27 kB)\n",
      "  Installing build dependencies: started\n",
      "  Installing build dependencies: finished with status 'done'\n",
      "  Getting requirements to build wheel: started\n",
      "  Getting requirements to build wheel: finished with status 'done'\n",
      "  Preparing metadata (pyproject.toml): started\n",
      "  Preparing metadata (pyproject.toml): finished with status 'done'\n",
      "Collecting pygetwindow>=0.0.5 (from pyautogui)\n",
      "  Downloading PyGetWindow-0.0.9.tar.gz (9.7 kB)\n",
      "  Preparing metadata (setup.py): started\n",
      "  Preparing metadata (setup.py): finished with status 'done'\n",
      "Collecting mouseinfo (from pyautogui)\n",
      "  Downloading MouseInfo-0.1.3.tar.gz (10 kB)\n",
      "  Preparing metadata (setup.py): started\n",
      "  Preparing metadata (setup.py): finished with status 'done'\n",
      "Collecting pyrect (from pygetwindow>=0.0.5->pyautogui)\n",
      "  Downloading PyRect-0.2.0.tar.gz (17 kB)\n",
      "  Preparing metadata (setup.py): started\n",
      "  Preparing metadata (setup.py): finished with status 'done'\n",
      "Requirement already satisfied: Pillow>=9.3.0 in c:\\users\\praga\\anaconda3\\lib\\site-packages (from pyscreeze>=0.1.21->pyautogui) (9.4.0)\n",
      "Collecting pyperclip (from mouseinfo->pyautogui)\n",
      "  Downloading pyperclip-1.8.2.tar.gz (20 kB)\n",
      "  Preparing metadata (setup.py): started\n",
      "  Preparing metadata (setup.py): finished with status 'done'\n",
      "Building wheels for collected packages: pyautogui, pygetwindow, pyscreeze, pytweening, mouseinfo, pymsgbox, pyperclip, pyrect\n",
      "  Building wheel for pyautogui (pyproject.toml): started\n",
      "  Building wheel for pyautogui (pyproject.toml): finished with status 'done'\n",
      "  Created wheel for pyautogui: filename=PyAutoGUI-0.9.54-py3-none-any.whl size=37596 sha256=4238a57b5226cd7a7086934142b94b4f895bd187298063edc9515fb1c4a6e0f4\n",
      "  Stored in directory: c:\\users\\praga\\appdata\\local\\pip\\cache\\wheels\\95\\dc\\b1\\fe122b791e0db8bf439a0e6e1d2628e48f10bf430cae13521b\n",
      "  Building wheel for pygetwindow (setup.py): started\n",
      "  Building wheel for pygetwindow (setup.py): finished with status 'done'\n",
      "  Created wheel for pygetwindow: filename=PyGetWindow-0.0.9-py3-none-any.whl size=11079 sha256=c98164cad17ad89c240c33e200b49a4b5d77ca0bf306d10bbdb608e9a22c68dd\n",
      "  Stored in directory: c:\\users\\praga\\appdata\\local\\pip\\cache\\wheels\\07\\75\\0b\\7ca0b598eb4c21d43ba4bcc78a0538dfcf803a5997da33bc19\n",
      "  Building wheel for pyscreeze (pyproject.toml): started\n",
      "  Building wheel for pyscreeze (pyproject.toml): finished with status 'done'\n",
      "  Created wheel for pyscreeze: filename=PyScreeze-0.1.30-py3-none-any.whl size=14401 sha256=3dbdc59a5dfc122f3caf680a8f2091aa525ab7724a05ef680de2dc05589971f6\n",
      "  Stored in directory: c:\\users\\praga\\appdata\\local\\pip\\cache\\wheels\\df\\bc\\15\\d685ca085ca4b11e46e54cc3da4e501a98856c7fea8f604500\n",
      "  Building wheel for pytweening (setup.py): started\n",
      "  Building wheel for pytweening (setup.py): finished with status 'done'\n",
      "  Created wheel for pytweening: filename=pytweening-1.0.7-py3-none-any.whl size=6214 sha256=177b6d5d855e98862b374175a60cc4752757fd62de980a1215dbdf2fb0ec5f1e\n",
      "  Stored in directory: c:\\users\\praga\\appdata\\local\\pip\\cache\\wheels\\b2\\9b\\02\\059beba389e7e31a635bd9e8d9b7299f4ec11caca1f237f56d\n",
      "  Building wheel for mouseinfo (setup.py): started\n",
      "  Building wheel for mouseinfo (setup.py): finished with status 'done'\n",
      "  Created wheel for mouseinfo: filename=MouseInfo-0.1.3-py3-none-any.whl size=10906 sha256=e930eea3f05552843068847a7b6b58f6c6a4dcd2b567c78f6172902e11f62796\n",
      "  Stored in directory: c:\\users\\praga\\appdata\\local\\pip\\cache\\wheels\\20\\0b\\7f\\939ac9ff785b09951c706150537572c00123412f260a6024f3\n",
      "  Building wheel for pymsgbox (pyproject.toml): started\n",
      "  Building wheel for pymsgbox (pyproject.toml): finished with status 'done'\n",
      "  Created wheel for pymsgbox: filename=PyMsgBox-1.0.9-py3-none-any.whl size=7417 sha256=865b37e79d13d70485de95c81bfd79fac97396f80c30a387f08be81d02f876d8\n",
      "  Stored in directory: c:\\users\\praga\\appdata\\local\\pip\\cache\\wheels\\85\\92\\63\\e126ee5f33d8f2ed04f96e43ef5df7270a2f331848752e8662\n",
      "  Building wheel for pyperclip (setup.py): started\n",
      "  Building wheel for pyperclip (setup.py): finished with status 'done'\n",
      "  Created wheel for pyperclip: filename=pyperclip-1.8.2-py3-none-any.whl size=11137 sha256=80ade78ada62d8cd5d57f3107b7cd74ec9d2c3c6268d126d3a33920398cd4e16\n",
      "  Stored in directory: c:\\users\\praga\\appdata\\local\\pip\\cache\\wheels\\70\\bd\\ba\\8ae5c080c895c9360fe6e153acda2dee82527374467eae061b\n",
      "  Building wheel for pyrect (setup.py): started\n",
      "  Building wheel for pyrect (setup.py): finished with status 'done'\n",
      "  Created wheel for pyrect: filename=PyRect-0.2.0-py2.py3-none-any.whl size=11205 sha256=f59d5d31e56de0d58feaa243c3d34f7de87986680be91d0f2003115945a6283c\n",
      "  Stored in directory: c:\\users\\praga\\appdata\\local\\pip\\cache\\wheels\\c4\\e9\\fc\\b7a666dd4f9a3168fb44d643079b41d36ddab52f470707e820\n",
      "Successfully built pyautogui pygetwindow pyscreeze pytweening mouseinfo pymsgbox pyperclip pyrect\n",
      "Installing collected packages: pytweening, pyrect, pyperclip, pymsgbox, pyscreeze, pygetwindow, mouseinfo, pyautogui\n",
      "Successfully installed mouseinfo-0.1.3 pyautogui-0.9.54 pygetwindow-0.0.9 pymsgbox-1.0.9 pyperclip-1.8.2 pyrect-0.2.0 pyscreeze-0.1.30 pytweening-1.0.7\n",
      "Note: you may need to restart the kernel to use updated packages.\n"
     ]
    }
   ],
   "source": [
    "pip install pyautogui"
   ]
  },
  {
   "cell_type": "code",
   "execution_count": 3,
   "id": "f29c33a2",
   "metadata": {},
   "outputs": [
    {
     "name": "stdout",
     "output_type": "stream",
     "text": [
      "Requirement already satisfied: psutil in c:\\users\\praga\\anaconda3\\lib\\site-packages (5.9.0)Note: you may need to restart the kernel to use updated packages.\n",
      "\n"
     ]
    }
   ],
   "source": [
    "pip install psutil"
   ]
  },
  {
   "cell_type": "code",
   "execution_count": 5,
   "id": "c03a6e03",
   "metadata": {},
   "outputs": [
    {
     "name": "stdout",
     "output_type": "stream",
     "text": [
      "Collecting pyjokes\n",
      "  Downloading pyjokes-0.6.0-py2.py3-none-any.whl (26 kB)\n",
      "Installing collected packages: pyjokes\n",
      "Successfully installed pyjokes-0.6.0\n",
      "Note: you may need to restart the kernel to use updated packages.\n"
     ]
    }
   ],
   "source": [
    "pip install pyjokes"
   ]
  },
  {
   "cell_type": "code",
   "execution_count": 26,
   "id": "c65fd0d5",
   "metadata": {},
   "outputs": [
    {
     "name": "stdout",
     "output_type": "stream",
     "text": [
      "Collecting pyaudio\n",
      "  Obtaining dependency information for pyaudio from https://files.pythonhosted.org/packages/82/d8/f043c854aad450a76e476b0cf9cda1956419e1dacf1062eb9df3c0055abe/PyAudio-0.2.14-cp311-cp311-win_amd64.whl.metadata\n",
      "  Downloading PyAudio-0.2.14-cp311-cp311-win_amd64.whl.metadata (2.7 kB)\n",
      "Downloading PyAudio-0.2.14-cp311-cp311-win_amd64.whl (164 kB)\n",
      "   ---------------------------------------- 0.0/164.1 kB ? eta -:--:--\n",
      "   -- ------------------------------------- 10.2/164.1 kB ? eta -:--:--\n",
      "   ---------------------- ----------------- 92.2/164.1 kB 1.3 MB/s eta 0:00:01\n",
      "   ---------------------------------------- 164.1/164.1 kB 2.0 MB/s eta 0:00:00\n",
      "Installing collected packages: pyaudio\n",
      "Successfully installed pyaudio-0.2.14\n",
      "Note: you may need to restart the kernel to use updated packages.\n"
     ]
    }
   ],
   "source": [
    "pip install pyaudio"
   ]
  },
  {
   "cell_type": "code",
   "execution_count": null,
   "id": "89914414",
   "metadata": {},
   "outputs": [],
   "source": []
  }
 ],
 "metadata": {
  "kernelspec": {
   "display_name": "Python 3 (ipykernel)",
   "language": "python",
   "name": "python3"
  },
  "language_info": {
   "codemirror_mode": {
    "name": "ipython",
    "version": 3
   },
   "file_extension": ".py",
   "mimetype": "text/x-python",
   "name": "python",
   "nbconvert_exporter": "python",
   "pygments_lexer": "ipython3",
   "version": "3.11.5"
  }
 },
 "nbformat": 4,
 "nbformat_minor": 5
}
